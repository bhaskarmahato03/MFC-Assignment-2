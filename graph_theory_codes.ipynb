{
 "cells": [
  {
   "cell_type": "code",
   "execution_count": null,
   "metadata": {},
   "outputs": [],
   "source": [
    "#1.Write a code to find the degree of each vertex, and sort the keys by their degree.\n",
    "def get_vertex_degrees(graph):\n",
    "    # Dictionary to store degree of each vertex\n",
    "    degrees = {}\n",
    "    for node in graph:\n",
    "        count = 0\n",
    "        for neighbor in graph[node]:\n",
    "            count += 1  # Count neighbors to get degree\n",
    "        degrees[node] = count\n",
    "\n",
    "    # Sort keys based on their degree values\n",
    "    sorted_keys = []\n",
    "    already = []\n",
    "    while len(sorted_keys) < len(degrees):\n",
    "        min_key = None\n",
    "        for key in degrees:\n",
    "            if key not in already:\n",
    "                if min_key is None or degrees[key] < degrees[min_key]:\n",
    "                    min_key = key\n",
    "        sorted_keys.append(min_key)\n",
    "        already.append(min_key)\n",
    "\n",
    "    return degrees, sorted_keys"
   ]
  },
  {
   "cell_type": "code",
   "execution_count": null,
   "metadata": {},
   "outputs": [],
   "source": [
    "#2.Write a code to convert adjacency list to adjacency matrix.\n",
    "def adjlist_to_matrix(adjlist):\n",
    "    keys = list(adjlist.keys())  # List of vertices\n",
    "    size = len(keys)\n",
    "    matrix = []\n",
    "    for i in range(size):\n",
    "        row = []\n",
    "        for j in range(size):\n",
    "            # Check if there is an edge between node i and node j\n",
    "            if keys[j] in adjlist[keys[i]]:\n",
    "                row.append(1)\n",
    "            else:\n",
    "                row.append(0)\n",
    "        matrix.append(row)\n",
    "    return matrix"
   ]
  },
  {
   "cell_type": "code",
   "execution_count": null,
   "metadata": {},
   "outputs": [],
   "source": [
    "#Write a code to convert adjacency matrix to adjacency list.\n",
    "def matrix_to_adjlist(matrix):\n",
    "    adjlist = {}\n",
    "    for i in range(len(matrix)):\n",
    "        adjlist[i] = []\n",
    "        for j in range(len(matrix[i])):\n",
    "            if matrix[i][j] == 1:\n",
    "                adjlist[i].append(j)  # Add edge from i to j\n",
    "    return adjlist"
   ]
  },
  {
   "cell_type": "markdown",
   "metadata": {},
   "source": [
    "### Question: Write a code to convert edge list to adjacency list."
   ]
  },
  {
   "cell_type": "code",
   "execution_count": null,
   "metadata": {},
   "outputs": [],
   "source": [
    "def edgelist_to_adjlist(edges):\n",
    "    adjlist = {}\n",
    "    for u, v in edges:\n",
    "        if u not in adjlist:\n",
    "            adjlist[u] = []\n",
    "        if v not in adjlist:\n",
    "            adjlist[v] = []\n",
    "        adjlist[u].append(v)  # Add edge u-v\n",
    "        adjlist[v].append(u)  # Add edge v-u (for undirected)\n",
    "    return adjlist"
   ]
  },
  {
   "cell_type": "markdown",
   "metadata": {},
   "source": [
    "### Question: Given a graph and two vertices, check if they are adjacent."
   ]
  },
  {
   "cell_type": "code",
   "execution_count": null,
   "metadata": {},
   "outputs": [],
   "source": [
    "def check_adjacent(graph, a, b):\n",
    "    # Check if b exists in neighbors of a\n",
    "    if a in graph:\n",
    "        if b in graph[a]:\n",
    "            return True\n",
    "    return False"
   ]
  },
  {
   "cell_type": "markdown",
   "metadata": {},
   "source": [
    "### Question: Check if a graph is complete."
   ]
  },
  {
   "cell_type": "code",
   "execution_count": null,
   "metadata": {},
   "outputs": [],
   "source": [
    "def is_complete(graph):\n",
    "    total = len(graph)\n",
    "    for node in graph:\n",
    "        # In complete graph, each node connects to all other nodes\n",
    "        if len(graph[node]) != total - 1:\n",
    "            return False\n",
    "    return True"
   ]
  },
  {
   "cell_type": "markdown",
   "metadata": {},
   "source": [
    "### Question: Check if a graph is connected."
   ]
  },
  {
   "cell_type": "code",
   "execution_count": null,
   "metadata": {},
   "outputs": [],
   "source": [
    "def is_connected(graph):\n",
    "    visited = []\n",
    "\n",
    "    def visit(node):\n",
    "        visited.append(node)\n",
    "        for n in graph[node]:\n",
    "            if n not in visited:\n",
    "                visit(n)\n",
    "\n",
    "    start = list(graph.keys())[0]  # Start from any node\n",
    "    visit(start)\n",
    "    return len(visited) == len(graph)  # Check if all nodes visited"
   ]
  },
  {
   "cell_type": "markdown",
   "metadata": {},
   "source": [
    "### Question: Given a graph and a list of vertices, check if it forms a walk, or a trail or a path or none of these."
   ]
  },
  {
   "cell_type": "code",
   "execution_count": null,
   "metadata": {},
   "outputs": [],
   "source": [
    "def walk_type(graph, seq):\n",
    "    seen_edges = []\n",
    "    seen_nodes = []\n",
    "\n",
    "    for i in range(len(seq)-1):\n",
    "        a, b = seq[i], seq[i+1]\n",
    "        if b not in graph[a]:\n",
    "            return \"None\"  # If edge doesn't exist, it's invalid\n",
    "        if (a, b) not in seen_edges and (b, a) not in seen_edges:\n",
    "            seen_edges.append((a, b))  # Track edges\n",
    "        seen_nodes.append(a)\n",
    "\n",
    "    if len(seen_edges) == len(set(seen_edges)) and len(seen_nodes) == len(set(seen_nodes)):\n",
    "        return \"Path\"  # Unique nodes and edges\n",
    "    elif len(seen_edges) == len(set(seen_edges)):\n",
    "        return \"Trail\"  # Unique edges\n",
    "    else:\n",
    "        return \"Walk\"  # Repeated edges allowed"
   ]
  },
  {
   "cell_type": "markdown",
   "metadata": {},
   "source": [
    "### Question: Check if a given graph is a tree."
   ]
  },
  {
   "cell_type": "code",
   "execution_count": null,
   "metadata": {},
   "outputs": [],
   "source": [
    "def is_tree(graph):\n",
    "    def dfs(node, visited, parent):\n",
    "        visited.append(node)\n",
    "        for n in graph[node]:\n",
    "            if n not in visited:\n",
    "                if dfs(n, visited, node):\n",
    "                    return True  # Cycle found\n",
    "            elif n != parent:\n",
    "                return True  # Back edge means cycle\n",
    "        return False\n",
    "\n",
    "    visited = []\n",
    "    keys = list(graph.keys())\n",
    "    if dfs(keys[0], visited, -1):\n",
    "        return False  # Contains cycle\n",
    "    if len(visited) != len(graph):\n",
    "        return False  # Not connected\n",
    "    return True"
   ]
  },
  {
   "cell_type": "markdown",
   "metadata": {},
   "source": [
    "### Question: Given a connected cyclic graph, find its spanning tree."
   ]
  },
  {
   "cell_type": "code",
   "execution_count": null,
   "metadata": {},
   "outputs": [],
   "source": [
    "def get_spanning_tree(graph):\n",
    "    tree = {}\n",
    "    visited = []\n",
    "\n",
    "    def build(node):\n",
    "        visited.append(node)\n",
    "        tree[node] = []\n",
    "        for n in graph[node]:\n",
    "            if n not in visited:\n",
    "                tree[node].append(n)  # Add edge to tree\n",
    "                if n not in tree:\n",
    "                    tree[n] = []\n",
    "                tree[n].append(node)\n",
    "                build(n)\n",
    "\n",
    "    start = list(graph.keys())[0]\n",
    "    build(start)\n",
    "    return tree"
   ]
  },
  {
   "cell_type": "markdown",
   "metadata": {},
   "source": [
    "### Question: Given a tree, find the number of leaf nodes."
   ]
  },
  {
   "cell_type": "code",
   "execution_count": null,
   "metadata": {},
   "outputs": [],
   "source": [
    "def count_leaf_nodes(tree):\n",
    "    count = 0\n",
    "    for node in tree:\n",
    "        # Leaf node has only one connection in a tree\n",
    "        if len(tree[node]) == 1:\n",
    "            count += 1\n",
    "    return count"
   ]
  },
  {
   "cell_type": "markdown",
   "metadata": {},
   "source": [
    "### Question: Given a tree, check if it's a binary tree."
   ]
  },
  {
   "cell_type": "code",
   "execution_count": null,
   "metadata": {},
   "outputs": [],
   "source": [
    "def is_binary(tree):\n",
    "    for node in tree:\n",
    "        # Each node in binary tree has at most 2 children (in undirected graph: max 3 connections)\n",
    "        if len(tree[node]) > 3:\n",
    "            return False\n",
    "    return True"
   ]
  },
  {
   "cell_type": "markdown",
   "metadata": {},
   "source": [
    "### Question: Given a tree and a node, find its height."
   ]
  },
  {
   "cell_type": "code",
   "execution_count": null,
   "metadata": {},
   "outputs": [],
   "source": [
    "def get_height(tree, node):\n",
    "    def height(n, parent):\n",
    "        max_h = 0\n",
    "        for child in tree[n]:\n",
    "            if child != parent:\n",
    "                h = height(child, n)\n",
    "                if h > max_h:\n",
    "                    max_h = h\n",
    "        return max_h + 1\n",
    "    return height(node, -1)"
   ]
  },
  {
   "cell_type": "markdown",
   "metadata": {},
   "source": [
    "### Question: Given a tree and a node, find its depth."
   ]
  },
  {
   "cell_type": "code",
   "execution_count": null,
   "metadata": {},
   "outputs": [],
   "source": [
    "def get_depth(tree, root, target):\n",
    "    def dfs(node, d, visited):\n",
    "        if node == target:\n",
    "            return d  # Found the node\n",
    "        visited.append(node)\n",
    "        for n in tree[node]:\n",
    "            if n not in visited:\n",
    "                found = dfs(n, d+1, visited)\n",
    "                if found != -1:\n",
    "                    return found\n",
    "        return -1\n",
    "    return dfs(root, 0, [])"
   ]
  }
 ],
 "metadata": {
  "kernelspec": {
   "display_name": "Python 3",
   "language": "python",
   "name": "python3"
  },
  "language_info": {
   "name": "python",
   "version": "3.8"
  }
 },
 "nbformat": 4,
 "nbformat_minor": 5
}
